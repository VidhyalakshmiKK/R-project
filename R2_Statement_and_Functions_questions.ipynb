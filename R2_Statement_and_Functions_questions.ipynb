{
  "nbformat": 4,
  "nbformat_minor": 0,
  "metadata": {
    "colab": {
      "provenance": []
    },
    "kernelspec": {
      "name": "ir",
      "display_name": "R"
    },
    "language_info": {
      "name": "R"
    }
  },
  "cells": [
    {
      "cell_type": "markdown",
      "source": [
        "**FUNCTIONS QUESTIONS**\n",
        "\n",
        "1.Create a function that takes in a name as a string argument, and prints out “Hello name”.\n"
      ],
      "metadata": {
        "id": "140mEn-rGAMx"
      }
    },
    {
      "cell_type": "code",
      "execution_count": null,
      "metadata": {
        "id": "Di4yE3bAFtQj",
        "colab": {
          "base_uri": "https://localhost:8080/"
        },
        "outputId": "4a69b126-a44d-49db-9a06-a16fd6f68f8c"
      },
      "outputs": [
        {
          "output_type": "stream",
          "name": "stdout",
          "text": [
            "Sunder\n",
            "Hello Sunder"
          ]
        }
      ],
      "source": [
        "greeting = function(name){\n",
        "    cat(\"Hello\",name)\n",
        "    }\n",
        "\n",
        "name=readline()\n",
        "greeting(name)"
      ]
    },
    {
      "cell_type": "markdown",
      "source": [
        "2.Create a function that takes in a name as a string argument and returns a string of the form - “Hello name”."
      ],
      "metadata": {
        "id": "hQlfcm-7GMua"
      }
    },
    {
      "cell_type": "code",
      "source": [
        "my_fun = function(name){\n",
        "   return (paste(\"Hello\",name))\n",
        "}\n",
        "\n",
        "name=readline()\n",
        "my_fun(name)"
      ],
      "metadata": {
        "id": "IIE9eOWJGM7A",
        "colab": {
          "base_uri": "https://localhost:8080/",
          "height": 52
        },
        "outputId": "ecd5661a-5e3f-485d-fec2-b8fd83cb0d9c"
      },
      "execution_count": null,
      "outputs": [
        {
          "name": "stdout",
          "output_type": "stream",
          "text": [
            "vidhya\n"
          ]
        },
        {
          "output_type": "display_data",
          "data": {
            "text/html": [
              "'Hello vidhya'"
            ],
            "text/markdown": "'Hello vidhya'",
            "text/latex": "'Hello vidhya'",
            "text/plain": [
              "[1] \"Hello vidhya\""
            ]
          },
          "metadata": {}
        }
      ]
    },
    {
      "cell_type": "markdown",
      "source": [
        "3.Create a function that will return the product of two integers."
      ],
      "metadata": {
        "id": "SmnvywZRGNVq"
      }
    },
    {
      "cell_type": "code",
      "source": [
        "prod = function(a,b){\n",
        "    return (a*b)\n",
        "}\n",
        "\n",
        "a=as.integer(readline())\n",
        "b=as.integer(readline())\n",
        "cat(\"product_of_a_and_b :\", prod(a,b))\n"
      ],
      "metadata": {
        "id": "xCLzgKkNGNlA",
        "colab": {
          "base_uri": "https://localhost:8080/"
        },
        "outputId": "2dda605f-356d-4a4b-9e88-7dbc8222c028"
      },
      "execution_count": null,
      "outputs": [
        {
          "output_type": "stream",
          "name": "stdout",
          "text": [
            "12\n",
            "12\n",
            "product_of_a_and_b : 144"
          ]
        }
      ]
    },
    {
      "cell_type": "markdown",
      "source": [
        "4.Create a function to check the count of numbers\n",
        "Ex. x = c(1,1,1,2,2,2,3,12,3,4,5,3) output should be how many times each element is present in the vector.\n"
      ],
      "metadata": {
        "id": "H2kcj6AHGNxn"
      }
    },
    {
      "cell_type": "code",
      "source": [
        " Count_of_numbers = function (x){\n",
        "  y = table(x)\n",
        "  print(\"Count_of_numbers_in_vector:\")\n",
        "  return (y)\n",
        " }\n",
        "\n",
        " x = c(1,1,1,2,2,2,3,12,3,4,5,3)\n",
        " Count_of_numbers(x)"
      ],
      "metadata": {
        "id": "b1UPfMxdGOE8",
        "colab": {
          "base_uri": "https://localhost:8080/",
          "height": 86
        },
        "outputId": "9c9b5a43-931b-4ba2-ed85-d090a1cb849f"
      },
      "execution_count": null,
      "outputs": [
        {
          "output_type": "stream",
          "name": "stdout",
          "text": [
            "[1] \"Count_of_numbers_in_vector:\"\n"
          ]
        },
        {
          "output_type": "display_data",
          "data": {
            "text/plain": [
              "x\n",
              " 1  2  3  4  5 12 \n",
              " 3  3  3  1  1  1 "
            ]
          },
          "metadata": {}
        }
      ]
    },
    {
      "cell_type": "markdown",
      "source": [
        "5.Create a function categorize_age that takes an age (numeric value) as input and returns “Child” if the age is less than 18, “Adult” if the age is between 18 and 64, inclusive, and “Senior” if the age is 65 or above.\n"
      ],
      "metadata": {
        "id": "cJN2R9huGOVk"
      }
    },
    {
      "cell_type": "code",
      "source": [
        "categorize_age = function ( age) {\n",
        "    if(age < 18){\n",
        "        return(\"Child\")\n",
        "\n",
        "    }else if(age >= 18 & age <= 64) {\n",
        "        return(\"Adult\")\n",
        "    }else{\n",
        "        return (\"Senior\")\n",
        "    }\n",
        "}\n",
        "\n",
        "age = as.integer(readline())\n",
        "categorize_age(age)\n"
      ],
      "metadata": {
        "id": "Wdeh8vc7GOoW",
        "colab": {
          "base_uri": "https://localhost:8080/",
          "height": 52
        },
        "outputId": "b24f2730-0f34-4f6d-9d6c-6e939241555e"
      },
      "execution_count": null,
      "outputs": [
        {
          "name": "stdout",
          "output_type": "stream",
          "text": [
            "65\n"
          ]
        },
        {
          "output_type": "display_data",
          "data": {
            "text/html": [
              "'Senior'"
            ],
            "text/markdown": "'Senior'",
            "text/latex": "'Senior'",
            "text/plain": [
              "[1] \"Senior\""
            ]
          },
          "metadata": {}
        }
      ]
    },
    {
      "cell_type": "markdown",
      "source": [
        "6.Write a function average_salary_by_age_group that takes a data frame with columns Age and Salary and returns a new data frame with two columns, AgeGroup and AverageSalary, where AgeGroup is “Young” (ages below 30), “Middle” (ages 30 to 50), and “Senior” (ages above 50), and AverageSalary is the average salary for each age group.\n"
      ],
      "metadata": {
        "id": "UixuTEywGPBM"
      }
    },
    {
      "cell_type": "code",
      "source": [
        "df=data.frame(Age=c(18,34,25,19,50,65,78,22,25,45,55,36,41,28,37),\n",
        "              Salary=c(10000,80000,30000,6000,100000,30000,20000,35000,50000,200000,150000,90000,100000,35000,70000))\n",
        "\n",
        "average_salary_by_age_group = function(df){\n",
        "  df$AgeGroup = cut(df$Age, breaks = c(-Inf, 30, 50, Inf), labels = c(\"Young\", \"Middle\", \"Senior\"))\n",
        "  AverageSalary = aggregate(Salary~AgeGroup,df,mean)\n",
        "  names(AverageSalary)=c(\"AgeGroup\",\"AverageSalary\")\n",
        "  return (AverageSalary)\n",
        "}\n",
        "\n",
        "average_salary_by_age_group(df)"
      ],
      "metadata": {
        "id": "PNCqptcmGPRo",
        "colab": {
          "base_uri": "https://localhost:8080/",
          "height": 192
        },
        "outputId": "3380ec9d-e9bf-463c-d30e-9b57ad7bac00"
      },
      "execution_count": null,
      "outputs": [
        {
          "output_type": "display_data",
          "data": {
            "text/html": [
              "<table class=\"dataframe\">\n",
              "<caption>A data.frame: 3 × 2</caption>\n",
              "<thead>\n",
              "\t<tr><th scope=col>AgeGroup</th><th scope=col>AverageSalary</th></tr>\n",
              "\t<tr><th scope=col>&lt;fct&gt;</th><th scope=col>&lt;dbl&gt;</th></tr>\n",
              "</thead>\n",
              "<tbody>\n",
              "\t<tr><td>Young </td><td> 27666.67</td></tr>\n",
              "\t<tr><td>Middle</td><td>106666.67</td></tr>\n",
              "\t<tr><td>Senior</td><td> 66666.67</td></tr>\n",
              "</tbody>\n",
              "</table>\n"
            ],
            "text/markdown": "\nA data.frame: 3 × 2\n\n| AgeGroup &lt;fct&gt; | AverageSalary &lt;dbl&gt; |\n|---|---|\n| Young  |  27666.67 |\n| Middle | 106666.67 |\n| Senior |  66666.67 |\n\n",
            "text/latex": "A data.frame: 3 × 2\n\\begin{tabular}{ll}\n AgeGroup & AverageSalary\\\\\n <fct> & <dbl>\\\\\n\\hline\n\t Young  &  27666.67\\\\\n\t Middle & 106666.67\\\\\n\t Senior &  66666.67\\\\\n\\end{tabular}\n",
            "text/plain": [
              "  AgeGroup AverageSalary\n",
              "1 Young     27666.67    \n",
              "2 Middle   106666.67    \n",
              "3 Senior    66666.67    "
            ]
          },
          "metadata": {}
        }
      ]
    },
    {
      "cell_type": "markdown",
      "source": [
        "7.Given a data frame df with columns Length and Width representing dimensions of rectangles, write a function area_rectangle that calculates the area of each rectangle. Then, use apply(), lapply(), or sapply() to apply this function to df to add a new column Area to the data frame."
      ],
      "metadata": {
        "id": "yUFaoMLOGPoc"
      }
    },
    {
      "cell_type": "code",
      "source": [
        "df= data.frame(length=c(10,20,35,40,50),\n",
        "               width=c(5,10,15,30,20))\n",
        "\n",
        "area_rectangle = function(row) {\n",
        "  return(row[\"length\"] * row[\"width\"])\n",
        "}\n",
        "\n",
        "df$Area = unlist(lapply(split(df, seq(nrow(df))), area_rectangle))\n",
        "df"
      ],
      "metadata": {
        "id": "5bMtdgI0GP9C",
        "colab": {
          "base_uri": "https://localhost:8080/",
          "height": 255
        },
        "outputId": "082e5a9b-8ed4-4b7b-eb8d-ffd285408fbe"
      },
      "execution_count": 8,
      "outputs": [
        {
          "output_type": "display_data",
          "data": {
            "text/html": [
              "<table class=\"dataframe\">\n",
              "<caption>A data.frame: 5 × 3</caption>\n",
              "<thead>\n",
              "\t<tr><th scope=col>length</th><th scope=col>width</th><th scope=col>Area</th></tr>\n",
              "\t<tr><th scope=col>&lt;dbl&gt;</th><th scope=col>&lt;dbl&gt;</th><th scope=col>&lt;dbl&gt;</th></tr>\n",
              "</thead>\n",
              "<tbody>\n",
              "\t<tr><td>10</td><td> 5</td><td>  50</td></tr>\n",
              "\t<tr><td>20</td><td>10</td><td> 200</td></tr>\n",
              "\t<tr><td>35</td><td>15</td><td> 525</td></tr>\n",
              "\t<tr><td>40</td><td>30</td><td>1200</td></tr>\n",
              "\t<tr><td>50</td><td>20</td><td>1000</td></tr>\n",
              "</tbody>\n",
              "</table>\n"
            ],
            "text/markdown": "\nA data.frame: 5 × 3\n\n| length &lt;dbl&gt; | width &lt;dbl&gt; | Area &lt;dbl&gt; |\n|---|---|---|\n| 10 |  5 |   50 |\n| 20 | 10 |  200 |\n| 35 | 15 |  525 |\n| 40 | 30 | 1200 |\n| 50 | 20 | 1000 |\n\n",
            "text/latex": "A data.frame: 5 × 3\n\\begin{tabular}{lll}\n length & width & Area\\\\\n <dbl> & <dbl> & <dbl>\\\\\n\\hline\n\t 10 &  5 &   50\\\\\n\t 20 & 10 &  200\\\\\n\t 35 & 15 &  525\\\\\n\t 40 & 30 & 1200\\\\\n\t 50 & 20 & 1000\\\\\n\\end{tabular}\n",
            "text/plain": [
              "  length width Area\n",
              "1 10      5      50\n",
              "2 20     10     200\n",
              "3 35     15     525\n",
              "4 40     30    1200\n",
              "5 50     20    1000"
            ]
          },
          "metadata": {}
        }
      ]
    },
    {
      "cell_type": "markdown",
      "source": [
        "**STATEMENT QUESTIONS**\n",
        "\n",
        "\n",
        "1.Write a script that will print “Even Number” if the variable x is an even number, otherwise print “Not Even”."
      ],
      "metadata": {
        "id": "IqfVpTbyBw0H"
      }
    },
    {
      "cell_type": "code",
      "source": [
        "x = as.numeric(readline())\n",
        "if (x %% 2 == 0){\n",
        "    print(\"Even Number\")\n",
        "}else{\n",
        "    print(\"Not Even\")\n",
        "}"
      ],
      "metadata": {
        "id": "ZN3BFocpBwXe",
        "colab": {
          "base_uri": "https://localhost:8080/"
        },
        "outputId": "603f9f2d-78eb-4d00-90c8-63e9bd8dd895"
      },
      "execution_count": null,
      "outputs": [
        {
          "output_type": "stream",
          "name": "stdout",
          "text": [
            "34\n",
            "[1] \"Even Number\"\n"
          ]
        }
      ]
    },
    {
      "cell_type": "markdown",
      "source": [
        "2.Write a script that will print ‘Is a Matrix’ if the variable x is a matrix, otherwise print “Not a Matrix”. Hint: You may want to check out help(is.matrix)"
      ],
      "metadata": {
        "id": "p2pC3iGuBxbj"
      }
    },
    {
      "cell_type": "code",
      "source": [
        "x=matrix(1:4,nrow=2)\n",
        "\n",
        "if (is.matrix(x) == TRUE){\n",
        "    print (\"Is a Matrix\")\n",
        "}else{\n",
        "    print(\"Not a Matrix\")\n",
        "}"
      ],
      "metadata": {
        "id": "3Y0hC304Bxql",
        "colab": {
          "base_uri": "https://localhost:8080/"
        },
        "outputId": "154dbef4-4bfa-4903-a2c5-4a8ff6c7b340"
      },
      "execution_count": null,
      "outputs": [
        {
          "output_type": "stream",
          "name": "stdout",
          "text": [
            "[1] \"Is a Matrix\"\n"
          ]
        }
      ]
    },
    {
      "cell_type": "markdown",
      "source": [
        "3.Create a script that given a numeric vector x x=c(3,7,1), will print out the elements in order from high to low i.e (1,3,7). You must use if,else if, and else statements for your logic."
      ],
      "metadata": {
        "id": "j_cJYXKABx0Z"
      }
    },
    {
      "cell_type": "code",
      "source": [
        "x=c(3,7,1)\n",
        "# sorting from high to low :\n",
        "if (x[1] >= x[2] & x[1] >= x[3]) {\n",
        "  if (x[2] >= x[3]) {\n",
        "    cat(x[1], x[2], x[3], \"\\n\")\n",
        "  } else {\n",
        "    cat(x[1], x[3], x[2], \"\\n\")\n",
        "  }\n",
        "} else if (x[2] >= x[1] & x[2] >= x[3]) {\n",
        "  if (x[1] >= x[3]) {\n",
        "    cat(x[2], x[1], x[3], \"\\n\")\n",
        "  } else {\n",
        "    cat(x[2], x[3], x[1], \"\\n\")\n",
        "  }\n",
        "} else {\n",
        "  if (x[1] >= x[2]) {\n",
        "    cat(x[3], x[1], x[2], \"\\n\")\n",
        "  } else {\n",
        "    cat(x[3], x[2], x[1], \"\\n\")\n",
        "  }\n",
        "}\n"
      ],
      "metadata": {
        "id": "PLez6AnyByJJ",
        "colab": {
          "base_uri": "https://localhost:8080/"
        },
        "outputId": "84545ed0-15a0-4251-e91c-2ba1e9f38315"
      },
      "execution_count": null,
      "outputs": [
        {
          "output_type": "stream",
          "name": "stdout",
          "text": [
            "7 3 1 \n"
          ]
        }
      ]
    },
    {
      "cell_type": "code",
      "source": [
        "x=c(3,7,1)\n",
        "# sorting from low to high :\n",
        "if (x[1] <= x[2] & x[1] <= x[3]) {\n",
        "  if (x[2] <= x[3]) {\n",
        "    cat(x[1], x[2], x[3], \"\\n\")\n",
        "  } else {\n",
        "    cat(x[1], x[3], x[2], \"\\n\")\n",
        "  }\n",
        "} else if (x[2] <= x[1] & x[2] <= x[3]) {\n",
        "  if (x[1] <= x[3]) {\n",
        "    cat(x[2], x[1], x[3], \"\\n\")\n",
        "  } else {\n",
        "    cat(x[2], x[3], x[1], \"\\n\")\n",
        "  }\n",
        "} else {\n",
        "  if (x[1] <= x[2]) {\n",
        "    cat(x[3], x[1], x[2], \"\\n\")\n",
        "  } else {\n",
        "    cat(x[3], x[2], x[1], \"\\n\")\n",
        "  }\n",
        "}\n"
      ],
      "metadata": {
        "colab": {
          "base_uri": "https://localhost:8080/"
        },
        "id": "RIExi_mpFw8x",
        "outputId": "4344cd11-6306-47a9-c4bf-a7b0a41eb36a"
      },
      "execution_count": null,
      "outputs": [
        {
          "output_type": "stream",
          "name": "stdout",
          "text": [
            "1 3 7 \n"
          ]
        }
      ]
    },
    {
      "cell_type": "markdown",
      "source": [
        "4.Write a script that uses if,else if, and else statements to print the max element in a numeric vector with 3 elements.\n",
        "Ex. x = c(3,7,1) 7 should be the output\n"
      ],
      "metadata": {
        "id": "wcm1sBGBByZX"
      }
    },
    {
      "cell_type": "code",
      "source": [
        "x = c(3,7,1)\n",
        "\n",
        "\n",
        "if (x[1] > x[2] & x[1] > x[3]){\n",
        "    print(x[1])\n",
        "} else if (x[2] > x[1] & x[2] > x[3]){\n",
        "    print(x[2])\n",
        "} else {\n",
        "    print(x[3])\n",
        "}\n"
      ],
      "metadata": {
        "id": "MMtLi8BhByqj",
        "colab": {
          "base_uri": "https://localhost:8080/"
        },
        "outputId": "fb3a2f4e-4996-4b39-d8d5-ae6b92d3f4d5"
      },
      "execution_count": null,
      "outputs": [
        {
          "output_type": "stream",
          "name": "stdout",
          "text": [
            "[1] 7\n"
          ]
        }
      ]
    }
  ]
}