{
  "nbformat": 4,
  "nbformat_minor": 0,
  "metadata": {
    "colab": {
      "provenance": []
    },
    "kernelspec": {
      "name": "ir",
      "display_name": "R"
    },
    "language_info": {
      "name": "R"
    }
  },
  "cells": [
    {
      "cell_type": "markdown",
      "source": [
        "**DATAFRAME QUESTIONS**\n",
        "\n",
        "1.Create a data frame named df_students with the following columns: ID, Name, Age, and Grade. Populate it with data for 5 students. Perform the following operations:\n",
        "\n",
        "  1.Add a new column Passed that indicates with TRUE or FALSE whether each student passed (assume a passing grade is at least 60).\n",
        "\n",
        "  2.Select and print only the rows of students who are 18 years or older.\n"
      ],
      "metadata": {
        "id": "SQYlspjuUOnl"
      }
    },
    {
      "cell_type": "code",
      "execution_count": null,
      "metadata": {
        "colab": {
          "base_uri": "https://localhost:8080/",
          "height": 223
        },
        "id": "2Y3U-xbIULJD",
        "outputId": "e49383b2-620b-4485-c8a9-7e4bffc4d0a1"
      },
      "outputs": [
        {
          "output_type": "display_data",
          "data": {
            "text/html": [
              "<table class=\"dataframe\">\n",
              "<caption>A data.frame: 4 × 5</caption>\n",
              "<thead>\n",
              "\t<tr><th></th><th scope=col>ID</th><th scope=col>Name</th><th scope=col>Age</th><th scope=col>Grade</th><th scope=col>Passed</th></tr>\n",
              "\t<tr><th></th><th scope=col>&lt;int&gt;</th><th scope=col>&lt;chr&gt;</th><th scope=col>&lt;dbl&gt;</th><th scope=col>&lt;dbl&gt;</th><th scope=col>&lt;lgl&gt;</th></tr>\n",
              "</thead>\n",
              "<tbody>\n",
              "\t<tr><th scope=row>1</th><td>1</td><td>Vidhya  </td><td>23</td><td>100</td><td> TRUE</td></tr>\n",
              "\t<tr><th scope=row>2</th><td>2</td><td>Sunder  </td><td>18</td><td> 68</td><td> TRUE</td></tr>\n",
              "\t<tr><th scope=row>3</th><td>3</td><td>Nandhini</td><td>25</td><td> 35</td><td>FALSE</td></tr>\n",
              "\t<tr><th scope=row>4</th><td>4</td><td>Prasad  </td><td>23</td><td> 53</td><td>FALSE</td></tr>\n",
              "</tbody>\n",
              "</table>\n"
            ],
            "text/markdown": "\nA data.frame: 4 × 5\n\n| <!--/--> | ID &lt;int&gt; | Name &lt;chr&gt; | Age &lt;dbl&gt; | Grade &lt;dbl&gt; | Passed &lt;lgl&gt; |\n|---|---|---|---|---|---|\n| 1 | 1 | Vidhya   | 23 | 100 |  TRUE |\n| 2 | 2 | Sunder   | 18 |  68 |  TRUE |\n| 3 | 3 | Nandhini | 25 |  35 | FALSE |\n| 4 | 4 | Prasad   | 23 |  53 | FALSE |\n\n",
            "text/latex": "A data.frame: 4 × 5\n\\begin{tabular}{r|lllll}\n  & ID & Name & Age & Grade & Passed\\\\\n  & <int> & <chr> & <dbl> & <dbl> & <lgl>\\\\\n\\hline\n\t1 & 1 & Vidhya   & 23 & 100 &  TRUE\\\\\n\t2 & 2 & Sunder   & 18 &  68 &  TRUE\\\\\n\t3 & 3 & Nandhini & 25 &  35 & FALSE\\\\\n\t4 & 4 & Prasad   & 23 &  53 & FALSE\\\\\n\\end{tabular}\n",
            "text/plain": [
              "  ID Name     Age Grade Passed\n",
              "1 1  Vidhya   23  100    TRUE \n",
              "2 2  Sunder   18   68    TRUE \n",
              "3 3  Nandhini 25   35   FALSE \n",
              "4 4  Prasad   23   53   FALSE "
            ]
          },
          "metadata": {}
        }
      ],
      "source": [
        "df_students = data.frame ( ID = c(1:5),\n",
        "                        Name=c(\"Vidhya\",\"Sunder\",\"Nandhini\",\"Prasad\",\"Anu\"),\n",
        "                        Age =c(23,18,25,23,17),\n",
        "                        Grade=c(100,68,35,53,88))\n",
        "df_students$Passed = df_students$Grade >60\n",
        "df_students_above_18=subset(df_students,Age >= 18)\n",
        "df_students_above_18"
      ]
    },
    {
      "cell_type": "markdown",
      "source": [
        "2.Suppose you have two data frames, df_A and df_B. df_A contains student IDs and names, while df_B contains student IDs and their corresponding courses. Write R code to merge these data frames so each row contains a student’s ID, name, and course."
      ],
      "metadata": {
        "id": "alm9SsTLUxVe"
      }
    },
    {
      "cell_type": "code",
      "source": [
        "df_A = data.frame(ID = c(1:5),\n",
        "                  Name=c(\"Vidhya\",\"Sunder\",\"Nandhini\",\"Prasad\",\"Anu\"))\n",
        "df_B = data.frame(ID = c(1:5),\n",
        "                  Course=c(\"CSC\",\"EEE\",\"IT\",\"EEE\",\"ECE\"))\n",
        "df=merge(df_A,df_B,by = \"ID\")\n",
        "df"
      ],
      "metadata": {
        "colab": {
          "base_uri": "https://localhost:8080/",
          "height": 255
        },
        "id": "0uNm1G6BUxAA",
        "outputId": "1216baeb-35e3-4e95-f41c-b726f1706681"
      },
      "execution_count": null,
      "outputs": [
        {
          "output_type": "display_data",
          "data": {
            "text/html": [
              "<table class=\"dataframe\">\n",
              "<caption>A data.frame: 5 × 3</caption>\n",
              "<thead>\n",
              "\t<tr><th scope=col>ID</th><th scope=col>Name</th><th scope=col>Course</th></tr>\n",
              "\t<tr><th scope=col>&lt;int&gt;</th><th scope=col>&lt;chr&gt;</th><th scope=col>&lt;chr&gt;</th></tr>\n",
              "</thead>\n",
              "<tbody>\n",
              "\t<tr><td>1</td><td>Vidhya  </td><td>CSC</td></tr>\n",
              "\t<tr><td>2</td><td>Sunder  </td><td>EEE</td></tr>\n",
              "\t<tr><td>3</td><td>Nandhini</td><td>IT </td></tr>\n",
              "\t<tr><td>4</td><td>Prasad  </td><td>EEE</td></tr>\n",
              "\t<tr><td>5</td><td>Anu     </td><td>ECE</td></tr>\n",
              "</tbody>\n",
              "</table>\n"
            ],
            "text/markdown": "\nA data.frame: 5 × 3\n\n| ID &lt;int&gt; | Name &lt;chr&gt; | Course &lt;chr&gt; |\n|---|---|---|\n| 1 | Vidhya   | CSC |\n| 2 | Sunder   | EEE |\n| 3 | Nandhini | IT  |\n| 4 | Prasad   | EEE |\n| 5 | Anu      | ECE |\n\n",
            "text/latex": "A data.frame: 5 × 3\n\\begin{tabular}{lll}\n ID & Name & Course\\\\\n <int> & <chr> & <chr>\\\\\n\\hline\n\t 1 & Vidhya   & CSC\\\\\n\t 2 & Sunder   & EEE\\\\\n\t 3 & Nandhini & IT \\\\\n\t 4 & Prasad   & EEE\\\\\n\t 5 & Anu      & ECE\\\\\n\\end{tabular}\n",
            "text/plain": [
              "  ID Name     Course\n",
              "1 1  Vidhya   CSC   \n",
              "2 2  Sunder   EEE   \n",
              "3 3  Nandhini IT    \n",
              "4 4  Prasad   EEE   \n",
              "5 5  Anu      ECE   "
            ]
          },
          "metadata": {}
        }
      ]
    },
    {
      "cell_type": "markdown",
      "source": [
        "3.Given a data frame df_sales with columns Date, ProductID, Quantity, and Price, write R code to calculate the total sales (Quantity * Price) for each product.\n",
        "\n",
        "   1.Note: Generate your own data set."
      ],
      "metadata": {
        "id": "CPUvlHrTU0CO"
      }
    },
    {
      "cell_type": "code",
      "source": [
        "df_sales = data.frame(Date = c(\"10-02-2020\",\"13-04-2020\" ,\"01-04-2021\",\"23-05-2021\",\"28-03-2021\",\"10-10-2021\"),\n",
        "                      ProductID= c(01,02,03,01,04,02),\n",
        "                      Quantity=c(1,2,1,1,3,1),\n",
        "                      Price=c(100,150,200,100,90,150))\n",
        "df_sales$total_sales= df_sales$Quantity * df_sales$Price\n",
        "df_sales"
      ],
      "metadata": {
        "id": "PkOJxITRUzl-",
        "colab": {
          "base_uri": "https://localhost:8080/",
          "height": 286
        },
        "outputId": "d3a8fee1-d9e3-491b-8f7d-1d274d6850a8"
      },
      "execution_count": null,
      "outputs": [
        {
          "output_type": "display_data",
          "data": {
            "text/html": [
              "<table class=\"dataframe\">\n",
              "<caption>A data.frame: 6 × 5</caption>\n",
              "<thead>\n",
              "\t<tr><th scope=col>Date</th><th scope=col>ProductID</th><th scope=col>Quantity</th><th scope=col>Price</th><th scope=col>total_sales</th></tr>\n",
              "\t<tr><th scope=col>&lt;chr&gt;</th><th scope=col>&lt;dbl&gt;</th><th scope=col>&lt;dbl&gt;</th><th scope=col>&lt;dbl&gt;</th><th scope=col>&lt;dbl&gt;</th></tr>\n",
              "</thead>\n",
              "<tbody>\n",
              "\t<tr><td>10-02-2020</td><td>1</td><td>1</td><td>100</td><td>100</td></tr>\n",
              "\t<tr><td>13-04-2020</td><td>2</td><td>2</td><td>150</td><td>300</td></tr>\n",
              "\t<tr><td>01-04-2021</td><td>3</td><td>1</td><td>200</td><td>200</td></tr>\n",
              "\t<tr><td>23-05-2021</td><td>1</td><td>1</td><td>100</td><td>100</td></tr>\n",
              "\t<tr><td>28-03-2021</td><td>4</td><td>3</td><td> 90</td><td>270</td></tr>\n",
              "\t<tr><td>10-10-2021</td><td>2</td><td>1</td><td>150</td><td>150</td></tr>\n",
              "</tbody>\n",
              "</table>\n"
            ],
            "text/markdown": "\nA data.frame: 6 × 5\n\n| Date &lt;chr&gt; | ProductID &lt;dbl&gt; | Quantity &lt;dbl&gt; | Price &lt;dbl&gt; | total_sales &lt;dbl&gt; |\n|---|---|---|---|---|\n| 10-02-2020 | 1 | 1 | 100 | 100 |\n| 13-04-2020 | 2 | 2 | 150 | 300 |\n| 01-04-2021 | 3 | 1 | 200 | 200 |\n| 23-05-2021 | 1 | 1 | 100 | 100 |\n| 28-03-2021 | 4 | 3 |  90 | 270 |\n| 10-10-2021 | 2 | 1 | 150 | 150 |\n\n",
            "text/latex": "A data.frame: 6 × 5\n\\begin{tabular}{lllll}\n Date & ProductID & Quantity & Price & total\\_sales\\\\\n <chr> & <dbl> & <dbl> & <dbl> & <dbl>\\\\\n\\hline\n\t 10-02-2020 & 1 & 1 & 100 & 100\\\\\n\t 13-04-2020 & 2 & 2 & 150 & 300\\\\\n\t 01-04-2021 & 3 & 1 & 200 & 200\\\\\n\t 23-05-2021 & 1 & 1 & 100 & 100\\\\\n\t 28-03-2021 & 4 & 3 &  90 & 270\\\\\n\t 10-10-2021 & 2 & 1 & 150 & 150\\\\\n\\end{tabular}\n",
            "text/plain": [
              "  Date       ProductID Quantity Price total_sales\n",
              "1 10-02-2020 1         1        100   100        \n",
              "2 13-04-2020 2         2        150   300        \n",
              "3 01-04-2021 3         1        200   200        \n",
              "4 23-05-2021 1         1        100   100        \n",
              "5 28-03-2021 4         3         90   270        \n",
              "6 10-10-2021 2         1        150   150        "
            ]
          },
          "metadata": {}
        }
      ]
    },
    {
      "cell_type": "markdown",
      "source": [
        "**4. For iris data set.**\n",
        "\n",
        "  1.Calculate the average Sepal.Length for each Species."
      ],
      "metadata": {
        "id": "GA-KY01jVCWD"
      }
    },
    {
      "cell_type": "code",
      "source": [
        "Average_Sepal_Length= aggregate(Sepal.Length~Species,iris,mean)\n",
        "Average_Sepal_Length"
      ],
      "metadata": {
        "id": "SYQR6X4_VB9c",
        "colab": {
          "base_uri": "https://localhost:8080/",
          "height": 192
        },
        "outputId": "5f7afbfc-4d35-4112-93af-bb8b8c3746af"
      },
      "execution_count": null,
      "outputs": [
        {
          "output_type": "display_data",
          "data": {
            "text/html": [
              "<table class=\"dataframe\">\n",
              "<caption>A data.frame: 3 × 2</caption>\n",
              "<thead>\n",
              "\t<tr><th scope=col>Species</th><th scope=col>Sepal.Length</th></tr>\n",
              "\t<tr><th scope=col>&lt;fct&gt;</th><th scope=col>&lt;dbl&gt;</th></tr>\n",
              "</thead>\n",
              "<tbody>\n",
              "\t<tr><td>setosa    </td><td>5.006</td></tr>\n",
              "\t<tr><td>versicolor</td><td>5.936</td></tr>\n",
              "\t<tr><td>virginica </td><td>6.588</td></tr>\n",
              "</tbody>\n",
              "</table>\n"
            ],
            "text/markdown": "\nA data.frame: 3 × 2\n\n| Species &lt;fct&gt; | Sepal.Length &lt;dbl&gt; |\n|---|---|\n| setosa     | 5.006 |\n| versicolor | 5.936 |\n| virginica  | 6.588 |\n\n",
            "text/latex": "A data.frame: 3 × 2\n\\begin{tabular}{ll}\n Species & Sepal.Length\\\\\n <fct> & <dbl>\\\\\n\\hline\n\t setosa     & 5.006\\\\\n\t versicolor & 5.936\\\\\n\t virginica  & 6.588\\\\\n\\end{tabular}\n",
            "text/plain": [
              "  Species    Sepal.Length\n",
              "1 setosa     5.006       \n",
              "2 versicolor 5.936       \n",
              "3 virginica  6.588       "
            ]
          },
          "metadata": {}
        }
      ]
    },
    {
      "cell_type": "markdown",
      "source": [
        "2.Create a new column Sepal.Area which is the product of Sepal.Length and Sepal.Width."
      ],
      "metadata": {
        "id": "OsZe-zNUVJVK"
      }
    },
    {
      "cell_type": "code",
      "source": [
        "iris$Sepal.Area = iris$Sepal.Length * iris$Sepal.Width\n",
        "iris"
      ],
      "metadata": {
        "id": "PJfzz2NhVJnC"
      },
      "execution_count": null,
      "outputs": []
    },
    {
      "cell_type": "markdown",
      "source": [
        "3.Find the species with the highest average Sepal.Area."
      ],
      "metadata": {
        "id": "co_1VmzqVJ8i"
      }
    },
    {
      "cell_type": "code",
      "source": [
        "Average_Sepal_Area= aggregate(Sepal.Area~Species,iris,mean)\n",
        "Max_avg_area = Average_Sepal_Area[which.max(Average_Sepal_Area$Sepal.Area), ]\n",
        "Max_avg_area"
      ],
      "metadata": {
        "id": "I19yjC55VKfA",
        "colab": {
          "base_uri": "https://localhost:8080/",
          "height": 129
        },
        "outputId": "e6b21cc5-a24a-4610-88a9-f6d6e2ff4c6f"
      },
      "execution_count": null,
      "outputs": [
        {
          "output_type": "display_data",
          "data": {
            "text/html": [
              "<table class=\"dataframe\">\n",
              "<caption>A data.frame: 1 × 2</caption>\n",
              "<thead>\n",
              "\t<tr><th></th><th scope=col>Species</th><th scope=col>Sepal.Area</th></tr>\n",
              "\t<tr><th></th><th scope=col>&lt;fct&gt;</th><th scope=col>&lt;dbl&gt;</th></tr>\n",
              "</thead>\n",
              "<tbody>\n",
              "\t<tr><th scope=row>3</th><td>virginica</td><td>19.6846</td></tr>\n",
              "</tbody>\n",
              "</table>\n"
            ],
            "text/markdown": "\nA data.frame: 1 × 2\n\n| <!--/--> | Species &lt;fct&gt; | Sepal.Area &lt;dbl&gt; |\n|---|---|---|\n| 3 | virginica | 19.6846 |\n\n",
            "text/latex": "A data.frame: 1 × 2\n\\begin{tabular}{r|ll}\n  & Species & Sepal.Area\\\\\n  & <fct> & <dbl>\\\\\n\\hline\n\t3 & virginica & 19.6846\\\\\n\\end{tabular}\n",
            "text/plain": [
              "  Species   Sepal.Area\n",
              "3 virginica 19.6846   "
            ]
          },
          "metadata": {}
        }
      ]
    },
    {
      "cell_type": "markdown",
      "source": [
        "**5.For airquality data set.**\n",
        "\n",
        "1.Calculate the average Ozone level for each month, excluding missing values."
      ],
      "metadata": {
        "id": "0nZhJhUXVS2h"
      }
    },
    {
      "cell_type": "code",
      "source": [
        "# Removing missing values\n",
        "airquality = airquality[complete.cases(airquality$Ozone), ]\n",
        "# average Ozone level for each month\n",
        "avg_ozone_level=aggregate(Ozone~Month,airquality,mean)\n",
        "avg_ozone_level"
      ],
      "metadata": {
        "id": "vU6F7gLtVSlg",
        "colab": {
          "base_uri": "https://localhost:8080/",
          "height": 255
        },
        "outputId": "2d0a690c-c393-4dd2-c02c-adc71ddcb5a7"
      },
      "execution_count": null,
      "outputs": [
        {
          "output_type": "display_data",
          "data": {
            "text/html": [
              "<table class=\"dataframe\">\n",
              "<caption>A data.frame: 5 × 2</caption>\n",
              "<thead>\n",
              "\t<tr><th scope=col>Month</th><th scope=col>Ozone</th></tr>\n",
              "\t<tr><th scope=col>&lt;int&gt;</th><th scope=col>&lt;dbl&gt;</th></tr>\n",
              "</thead>\n",
              "<tbody>\n",
              "\t<tr><td>5</td><td>23.61538</td></tr>\n",
              "\t<tr><td>6</td><td>29.44444</td></tr>\n",
              "\t<tr><td>7</td><td>59.11538</td></tr>\n",
              "\t<tr><td>8</td><td>59.96154</td></tr>\n",
              "\t<tr><td>9</td><td>31.44828</td></tr>\n",
              "</tbody>\n",
              "</table>\n"
            ],
            "text/markdown": "\nA data.frame: 5 × 2\n\n| Month &lt;int&gt; | Ozone &lt;dbl&gt; |\n|---|---|\n| 5 | 23.61538 |\n| 6 | 29.44444 |\n| 7 | 59.11538 |\n| 8 | 59.96154 |\n| 9 | 31.44828 |\n\n",
            "text/latex": "A data.frame: 5 × 2\n\\begin{tabular}{ll}\n Month & Ozone\\\\\n <int> & <dbl>\\\\\n\\hline\n\t 5 & 23.61538\\\\\n\t 6 & 29.44444\\\\\n\t 7 & 59.11538\\\\\n\t 8 & 59.96154\\\\\n\t 9 & 31.44828\\\\\n\\end{tabular}\n",
            "text/plain": [
              "  Month Ozone   \n",
              "1 5     23.61538\n",
              "2 6     29.44444\n",
              "3 7     59.11538\n",
              "4 8     59.96154\n",
              "5 9     31.44828"
            ]
          },
          "metadata": {}
        }
      ]
    },
    {
      "cell_type": "markdown",
      "source": [
        "2.Determine the month with the highest average Ozone level."
      ],
      "metadata": {
        "id": "Eg6dyFaAVbqx"
      }
    },
    {
      "cell_type": "code",
      "source": [
        "avg_ozone_level = aggregate(Ozone~Month,airquality,mean)\n",
        "Highest_avg_Ozone_level = avg_ozone_level[which.max(avg_ozone_level$Ozone), ]\n",
        "Highest_avg_Ozone_level"
      ],
      "metadata": {
        "id": "PUhOg_BTVb9k",
        "colab": {
          "base_uri": "https://localhost:8080/",
          "height": 129
        },
        "outputId": "c473eee4-80f0-4da4-dc9e-96a6946cfc37"
      },
      "execution_count": null,
      "outputs": [
        {
          "output_type": "display_data",
          "data": {
            "text/html": [
              "<table class=\"dataframe\">\n",
              "<caption>A data.frame: 1 × 2</caption>\n",
              "<thead>\n",
              "\t<tr><th></th><th scope=col>Month</th><th scope=col>Ozone</th></tr>\n",
              "\t<tr><th></th><th scope=col>&lt;int&gt;</th><th scope=col>&lt;dbl&gt;</th></tr>\n",
              "</thead>\n",
              "<tbody>\n",
              "\t<tr><th scope=row>4</th><td>8</td><td>59.96154</td></tr>\n",
              "</tbody>\n",
              "</table>\n"
            ],
            "text/markdown": "\nA data.frame: 1 × 2\n\n| <!--/--> | Month &lt;int&gt; | Ozone &lt;dbl&gt; |\n|---|---|---|\n| 4 | 8 | 59.96154 |\n\n",
            "text/latex": "A data.frame: 1 × 2\n\\begin{tabular}{r|ll}\n  & Month & Ozone\\\\\n  & <int> & <dbl>\\\\\n\\hline\n\t4 & 8 & 59.96154\\\\\n\\end{tabular}\n",
            "text/plain": [
              "  Month Ozone   \n",
              "4 8     59.96154"
            ]
          },
          "metadata": {}
        }
      ]
    },
    {
      "cell_type": "markdown",
      "source": [
        "3.Create a new data frame with Month and Temp columns, excluding days with missing Ozone values."
      ],
      "metadata": {
        "id": "c--Su6oGVcKg"
      }
    },
    {
      "cell_type": "code",
      "source": [
        "# Removing missing values\n",
        "airquality = airquality[complete.cases(airquality$Ozone), ]\n",
        "# data frame with Month and Temp columns\n",
        "df = subset(airquality,select=c(\"Month\",\"Temp\"))\n",
        "df"
      ],
      "metadata": {
        "id": "q4yCc2GbVcrg",
        "colab": {
          "base_uri": "https://localhost:8080/",
          "height": 1000
        },
        "outputId": "97a92e84-8154-46fe-883e-cba8573d58c1"
      },
      "execution_count": null,
      "outputs": [
        {
          "output_type": "display_data",
          "data": {
            "text/html": [
              "<table class=\"dataframe\">\n",
              "<caption>A data.frame: 116 × 2</caption>\n",
              "<thead>\n",
              "\t<tr><th></th><th scope=col>Month</th><th scope=col>Temp</th></tr>\n",
              "\t<tr><th></th><th scope=col>&lt;int&gt;</th><th scope=col>&lt;int&gt;</th></tr>\n",
              "</thead>\n",
              "<tbody>\n",
              "\t<tr><th scope=row>1</th><td>5</td><td>67</td></tr>\n",
              "\t<tr><th scope=row>2</th><td>5</td><td>72</td></tr>\n",
              "\t<tr><th scope=row>3</th><td>5</td><td>74</td></tr>\n",
              "\t<tr><th scope=row>4</th><td>5</td><td>62</td></tr>\n",
              "\t<tr><th scope=row>6</th><td>5</td><td>66</td></tr>\n",
              "\t<tr><th scope=row>7</th><td>5</td><td>65</td></tr>\n",
              "\t<tr><th scope=row>8</th><td>5</td><td>59</td></tr>\n",
              "\t<tr><th scope=row>9</th><td>5</td><td>61</td></tr>\n",
              "\t<tr><th scope=row>11</th><td>5</td><td>74</td></tr>\n",
              "\t<tr><th scope=row>12</th><td>5</td><td>69</td></tr>\n",
              "\t<tr><th scope=row>13</th><td>5</td><td>66</td></tr>\n",
              "\t<tr><th scope=row>14</th><td>5</td><td>68</td></tr>\n",
              "\t<tr><th scope=row>15</th><td>5</td><td>58</td></tr>\n",
              "\t<tr><th scope=row>16</th><td>5</td><td>64</td></tr>\n",
              "\t<tr><th scope=row>17</th><td>5</td><td>66</td></tr>\n",
              "\t<tr><th scope=row>18</th><td>5</td><td>57</td></tr>\n",
              "\t<tr><th scope=row>19</th><td>5</td><td>68</td></tr>\n",
              "\t<tr><th scope=row>20</th><td>5</td><td>62</td></tr>\n",
              "\t<tr><th scope=row>21</th><td>5</td><td>59</td></tr>\n",
              "\t<tr><th scope=row>22</th><td>5</td><td>73</td></tr>\n",
              "\t<tr><th scope=row>23</th><td>5</td><td>61</td></tr>\n",
              "\t<tr><th scope=row>24</th><td>5</td><td>61</td></tr>\n",
              "\t<tr><th scope=row>28</th><td>5</td><td>67</td></tr>\n",
              "\t<tr><th scope=row>29</th><td>5</td><td>81</td></tr>\n",
              "\t<tr><th scope=row>30</th><td>5</td><td>79</td></tr>\n",
              "\t<tr><th scope=row>31</th><td>5</td><td>76</td></tr>\n",
              "\t<tr><th scope=row>38</th><td>6</td><td>82</td></tr>\n",
              "\t<tr><th scope=row>40</th><td>6</td><td>90</td></tr>\n",
              "\t<tr><th scope=row>41</th><td>6</td><td>87</td></tr>\n",
              "\t<tr><th scope=row>44</th><td>6</td><td>82</td></tr>\n",
              "\t<tr><th scope=row>⋮</th><td>⋮</td><td>⋮</td></tr>\n",
              "\t<tr><th scope=row>123</th><td>8</td><td>94</td></tr>\n",
              "\t<tr><th scope=row>124</th><td>9</td><td>91</td></tr>\n",
              "\t<tr><th scope=row>125</th><td>9</td><td>92</td></tr>\n",
              "\t<tr><th scope=row>126</th><td>9</td><td>93</td></tr>\n",
              "\t<tr><th scope=row>127</th><td>9</td><td>93</td></tr>\n",
              "\t<tr><th scope=row>128</th><td>9</td><td>87</td></tr>\n",
              "\t<tr><th scope=row>129</th><td>9</td><td>84</td></tr>\n",
              "\t<tr><th scope=row>130</th><td>9</td><td>80</td></tr>\n",
              "\t<tr><th scope=row>131</th><td>9</td><td>78</td></tr>\n",
              "\t<tr><th scope=row>132</th><td>9</td><td>75</td></tr>\n",
              "\t<tr><th scope=row>133</th><td>9</td><td>73</td></tr>\n",
              "\t<tr><th scope=row>134</th><td>9</td><td>81</td></tr>\n",
              "\t<tr><th scope=row>135</th><td>9</td><td>76</td></tr>\n",
              "\t<tr><th scope=row>136</th><td>9</td><td>77</td></tr>\n",
              "\t<tr><th scope=row>137</th><td>9</td><td>71</td></tr>\n",
              "\t<tr><th scope=row>138</th><td>9</td><td>71</td></tr>\n",
              "\t<tr><th scope=row>139</th><td>9</td><td>78</td></tr>\n",
              "\t<tr><th scope=row>140</th><td>9</td><td>67</td></tr>\n",
              "\t<tr><th scope=row>141</th><td>9</td><td>76</td></tr>\n",
              "\t<tr><th scope=row>142</th><td>9</td><td>68</td></tr>\n",
              "\t<tr><th scope=row>143</th><td>9</td><td>82</td></tr>\n",
              "\t<tr><th scope=row>144</th><td>9</td><td>64</td></tr>\n",
              "\t<tr><th scope=row>145</th><td>9</td><td>71</td></tr>\n",
              "\t<tr><th scope=row>146</th><td>9</td><td>81</td></tr>\n",
              "\t<tr><th scope=row>147</th><td>9</td><td>69</td></tr>\n",
              "\t<tr><th scope=row>148</th><td>9</td><td>63</td></tr>\n",
              "\t<tr><th scope=row>149</th><td>9</td><td>70</td></tr>\n",
              "\t<tr><th scope=row>151</th><td>9</td><td>75</td></tr>\n",
              "\t<tr><th scope=row>152</th><td>9</td><td>76</td></tr>\n",
              "\t<tr><th scope=row>153</th><td>9</td><td>68</td></tr>\n",
              "</tbody>\n",
              "</table>\n"
            ],
            "text/markdown": "\nA data.frame: 116 × 2\n\n| <!--/--> | Month &lt;int&gt; | Temp &lt;int&gt; |\n|---|---|---|\n| 1 | 5 | 67 |\n| 2 | 5 | 72 |\n| 3 | 5 | 74 |\n| 4 | 5 | 62 |\n| 6 | 5 | 66 |\n| 7 | 5 | 65 |\n| 8 | 5 | 59 |\n| 9 | 5 | 61 |\n| 11 | 5 | 74 |\n| 12 | 5 | 69 |\n| 13 | 5 | 66 |\n| 14 | 5 | 68 |\n| 15 | 5 | 58 |\n| 16 | 5 | 64 |\n| 17 | 5 | 66 |\n| 18 | 5 | 57 |\n| 19 | 5 | 68 |\n| 20 | 5 | 62 |\n| 21 | 5 | 59 |\n| 22 | 5 | 73 |\n| 23 | 5 | 61 |\n| 24 | 5 | 61 |\n| 28 | 5 | 67 |\n| 29 | 5 | 81 |\n| 30 | 5 | 79 |\n| 31 | 5 | 76 |\n| 38 | 6 | 82 |\n| 40 | 6 | 90 |\n| 41 | 6 | 87 |\n| 44 | 6 | 82 |\n| ⋮ | ⋮ | ⋮ |\n| 123 | 8 | 94 |\n| 124 | 9 | 91 |\n| 125 | 9 | 92 |\n| 126 | 9 | 93 |\n| 127 | 9 | 93 |\n| 128 | 9 | 87 |\n| 129 | 9 | 84 |\n| 130 | 9 | 80 |\n| 131 | 9 | 78 |\n| 132 | 9 | 75 |\n| 133 | 9 | 73 |\n| 134 | 9 | 81 |\n| 135 | 9 | 76 |\n| 136 | 9 | 77 |\n| 137 | 9 | 71 |\n| 138 | 9 | 71 |\n| 139 | 9 | 78 |\n| 140 | 9 | 67 |\n| 141 | 9 | 76 |\n| 142 | 9 | 68 |\n| 143 | 9 | 82 |\n| 144 | 9 | 64 |\n| 145 | 9 | 71 |\n| 146 | 9 | 81 |\n| 147 | 9 | 69 |\n| 148 | 9 | 63 |\n| 149 | 9 | 70 |\n| 151 | 9 | 75 |\n| 152 | 9 | 76 |\n| 153 | 9 | 68 |\n\n",
            "text/latex": "A data.frame: 116 × 2\n\\begin{tabular}{r|ll}\n  & Month & Temp\\\\\n  & <int> & <int>\\\\\n\\hline\n\t1 & 5 & 67\\\\\n\t2 & 5 & 72\\\\\n\t3 & 5 & 74\\\\\n\t4 & 5 & 62\\\\\n\t6 & 5 & 66\\\\\n\t7 & 5 & 65\\\\\n\t8 & 5 & 59\\\\\n\t9 & 5 & 61\\\\\n\t11 & 5 & 74\\\\\n\t12 & 5 & 69\\\\\n\t13 & 5 & 66\\\\\n\t14 & 5 & 68\\\\\n\t15 & 5 & 58\\\\\n\t16 & 5 & 64\\\\\n\t17 & 5 & 66\\\\\n\t18 & 5 & 57\\\\\n\t19 & 5 & 68\\\\\n\t20 & 5 & 62\\\\\n\t21 & 5 & 59\\\\\n\t22 & 5 & 73\\\\\n\t23 & 5 & 61\\\\\n\t24 & 5 & 61\\\\\n\t28 & 5 & 67\\\\\n\t29 & 5 & 81\\\\\n\t30 & 5 & 79\\\\\n\t31 & 5 & 76\\\\\n\t38 & 6 & 82\\\\\n\t40 & 6 & 90\\\\\n\t41 & 6 & 87\\\\\n\t44 & 6 & 82\\\\\n\t⋮ & ⋮ & ⋮\\\\\n\t123 & 8 & 94\\\\\n\t124 & 9 & 91\\\\\n\t125 & 9 & 92\\\\\n\t126 & 9 & 93\\\\\n\t127 & 9 & 93\\\\\n\t128 & 9 & 87\\\\\n\t129 & 9 & 84\\\\\n\t130 & 9 & 80\\\\\n\t131 & 9 & 78\\\\\n\t132 & 9 & 75\\\\\n\t133 & 9 & 73\\\\\n\t134 & 9 & 81\\\\\n\t135 & 9 & 76\\\\\n\t136 & 9 & 77\\\\\n\t137 & 9 & 71\\\\\n\t138 & 9 & 71\\\\\n\t139 & 9 & 78\\\\\n\t140 & 9 & 67\\\\\n\t141 & 9 & 76\\\\\n\t142 & 9 & 68\\\\\n\t143 & 9 & 82\\\\\n\t144 & 9 & 64\\\\\n\t145 & 9 & 71\\\\\n\t146 & 9 & 81\\\\\n\t147 & 9 & 69\\\\\n\t148 & 9 & 63\\\\\n\t149 & 9 & 70\\\\\n\t151 & 9 & 75\\\\\n\t152 & 9 & 76\\\\\n\t153 & 9 & 68\\\\\n\\end{tabular}\n",
            "text/plain": [
              "    Month Temp\n",
              "1   5     67  \n",
              "2   5     72  \n",
              "3   5     74  \n",
              "4   5     62  \n",
              "6   5     66  \n",
              "7   5     65  \n",
              "8   5     59  \n",
              "9   5     61  \n",
              "11  5     74  \n",
              "12  5     69  \n",
              "13  5     66  \n",
              "14  5     68  \n",
              "15  5     58  \n",
              "16  5     64  \n",
              "17  5     66  \n",
              "18  5     57  \n",
              "19  5     68  \n",
              "20  5     62  \n",
              "21  5     59  \n",
              "22  5     73  \n",
              "23  5     61  \n",
              "24  5     61  \n",
              "28  5     67  \n",
              "29  5     81  \n",
              "30  5     79  \n",
              "31  5     76  \n",
              "38  6     82  \n",
              "40  6     90  \n",
              "41  6     87  \n",
              "44  6     82  \n",
              "⋮   ⋮     ⋮   \n",
              "123 8     94  \n",
              "124 9     91  \n",
              "125 9     92  \n",
              "126 9     93  \n",
              "127 9     93  \n",
              "128 9     87  \n",
              "129 9     84  \n",
              "130 9     80  \n",
              "131 9     78  \n",
              "132 9     75  \n",
              "133 9     73  \n",
              "134 9     81  \n",
              "135 9     76  \n",
              "136 9     77  \n",
              "137 9     71  \n",
              "138 9     71  \n",
              "139 9     78  \n",
              "140 9     67  \n",
              "141 9     76  \n",
              "142 9     68  \n",
              "143 9     82  \n",
              "144 9     64  \n",
              "145 9     71  \n",
              "146 9     81  \n",
              "147 9     69  \n",
              "148 9     63  \n",
              "149 9     70  \n",
              "151 9     75  \n",
              "152 9     76  \n",
              "153 9     68  "
            ]
          },
          "metadata": {}
        }
      ]
    }
  ]
}